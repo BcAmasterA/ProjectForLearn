{
 "cells": [
  {
   "cell_type": "code",
   "execution_count": 1,
   "id": "05df00b7",
   "metadata": {},
   "outputs": [],
   "source": [
    "import numpy as np\n",
    "import pandas as pd\n",
    "import matplotlib.pyplot as plt\n",
    "%matplotlib inline\n",
    "import seaborn as sns"
   ]
  },
  {
   "cell_type": "code",
   "execution_count": 2,
   "id": "c68c26db",
   "metadata": {},
   "outputs": [
    {
     "data": {
      "text/html": [
       "<div>\n",
       "<style scoped>\n",
       "    .dataframe tbody tr th:only-of-type {\n",
       "        vertical-align: middle;\n",
       "    }\n",
       "\n",
       "    .dataframe tbody tr th {\n",
       "        vertical-align: top;\n",
       "    }\n",
       "\n",
       "    .dataframe thead th {\n",
       "        text-align: right;\n",
       "    }\n",
       "</style>\n",
       "<table border=\"1\" class=\"dataframe\">\n",
       "  <thead>\n",
       "    <tr style=\"text-align: right;\">\n",
       "      <th></th>\n",
       "      <th>Timestamp</th>\n",
       "      <th>PM2.5</th>\n",
       "    </tr>\n",
       "  </thead>\n",
       "  <tbody>\n",
       "    <tr>\n",
       "      <th>0</th>\n",
       "      <td>01-01-2018 00:00</td>\n",
       "      <td>90.19</td>\n",
       "    </tr>\n",
       "    <tr>\n",
       "      <th>1</th>\n",
       "      <td>01-01-2018 01:00</td>\n",
       "      <td>86.98</td>\n",
       "    </tr>\n",
       "    <tr>\n",
       "      <th>2</th>\n",
       "      <td>01-01-2018 02:00</td>\n",
       "      <td>86.06</td>\n",
       "    </tr>\n",
       "    <tr>\n",
       "      <th>3</th>\n",
       "      <td>01-01-2018 03:00</td>\n",
       "      <td>94.04</td>\n",
       "    </tr>\n",
       "    <tr>\n",
       "      <th>4</th>\n",
       "      <td>01-01-2018 04:00</td>\n",
       "      <td>108.78</td>\n",
       "    </tr>\n",
       "    <tr>\n",
       "      <th>...</th>\n",
       "      <td>...</td>\n",
       "      <td>...</td>\n",
       "    </tr>\n",
       "    <tr>\n",
       "      <th>31856</th>\n",
       "      <td>31-12-2021 19:00</td>\n",
       "      <td>72.25</td>\n",
       "    </tr>\n",
       "    <tr>\n",
       "      <th>31857</th>\n",
       "      <td>31-12-2021 20:00</td>\n",
       "      <td>71.56</td>\n",
       "    </tr>\n",
       "    <tr>\n",
       "      <th>31858</th>\n",
       "      <td>31-12-2021 21:00</td>\n",
       "      <td>70.27</td>\n",
       "    </tr>\n",
       "    <tr>\n",
       "      <th>31859</th>\n",
       "      <td>31-12-2021 22:00</td>\n",
       "      <td>66.78</td>\n",
       "    </tr>\n",
       "    <tr>\n",
       "      <th>31860</th>\n",
       "      <td>31-12-2021 23:00</td>\n",
       "      <td>61.29</td>\n",
       "    </tr>\n",
       "  </tbody>\n",
       "</table>\n",
       "<p>31861 rows × 2 columns</p>\n",
       "</div>"
      ],
      "text/plain": [
       "              Timestamp   PM2.5\n",
       "0      01-01-2018 00:00   90.19\n",
       "1      01-01-2018 01:00   86.98\n",
       "2      01-01-2018 02:00   86.06\n",
       "3      01-01-2018 03:00   94.04\n",
       "4      01-01-2018 04:00  108.78\n",
       "...                 ...     ...\n",
       "31856  31-12-2021 19:00   72.25\n",
       "31857  31-12-2021 20:00   71.56\n",
       "31858  31-12-2021 21:00   70.27\n",
       "31859  31-12-2021 22:00   66.78\n",
       "31860  31-12-2021 23:00   61.29\n",
       "\n",
       "[31861 rows x 2 columns]"
      ]
     },
     "execution_count": 2,
     "metadata": {},
     "output_type": "execute_result"
    }
   ],
   "source": [
    "pf= pd.read_csv(\"C:/Users/Xun/Downloads/air-quality-data.csv\")\n",
    "pf"
   ]
  },
  {
   "cell_type": "markdown",
   "id": "b013ba53",
   "metadata": {},
   "source": [
    "1. Show the Year-wise average pollution with a line chart"
   ]
  },
  {
   "cell_type": "code",
   "execution_count": 3,
   "id": "98ff177b",
   "metadata": {},
   "outputs": [
    {
     "name": "stdout",
     "output_type": "stream",
     "text": [
      "<class 'pandas.core.frame.DataFrame'>\n",
      "RangeIndex: 31861 entries, 0 to 31860\n",
      "Data columns (total 2 columns):\n",
      " #   Column     Non-Null Count  Dtype  \n",
      "---  ------     --------------  -----  \n",
      " 0   Timestamp  31861 non-null  object \n",
      " 1   PM2.5      31861 non-null  float64\n",
      "dtypes: float64(1), object(1)\n",
      "memory usage: 498.0+ KB\n"
     ]
    }
   ],
   "source": [
    "pf.info()"
   ]
  },
  {
   "cell_type": "code",
   "execution_count": null,
   "id": "604f8369",
   "metadata": {},
   "outputs": [],
   "source": []
  },
  {
   "cell_type": "code",
   "execution_count": 4,
   "id": "69e6c413",
   "metadata": {
    "scrolled": true
   },
   "outputs": [],
   "source": [
    "pf['Timestamp']=pd.to_datetime(pf['Timestamp'])"
   ]
  },
  {
   "cell_type": "code",
   "execution_count": 5,
   "id": "2df56f3d",
   "metadata": {},
   "outputs": [
    {
     "name": "stdout",
     "output_type": "stream",
     "text": [
      "<class 'pandas.core.frame.DataFrame'>\n",
      "RangeIndex: 31861 entries, 0 to 31860\n",
      "Data columns (total 2 columns):\n",
      " #   Column     Non-Null Count  Dtype         \n",
      "---  ------     --------------  -----         \n",
      " 0   Timestamp  31861 non-null  datetime64[ns]\n",
      " 1   PM2.5      31861 non-null  float64       \n",
      "dtypes: datetime64[ns](1), float64(1)\n",
      "memory usage: 498.0 KB\n"
     ]
    }
   ],
   "source": [
    "pf.info()"
   ]
  },
  {
   "cell_type": "code",
   "execution_count": 6,
   "id": "6cc278f9",
   "metadata": {},
   "outputs": [],
   "source": [
    "pf['Year']= pf['Timestamp'].dt.year"
   ]
  },
  {
   "cell_type": "code",
   "execution_count": 7,
   "id": "2dc99eb7",
   "metadata": {},
   "outputs": [],
   "source": [
    "pfMean= pf.groupby('Year')['PM2.5'].mean()"
   ]
  },
  {
   "cell_type": "code",
   "execution_count": 8,
   "id": "bc5f32c9",
   "metadata": {},
   "outputs": [
    {
     "data": {
      "image/png": "[encoded data removed]",
      "text/plain": [
       "<Figure size 432x288 with 1 Axes>"
      ]
     },
     "metadata": {
      "needs_background": "light"
     },
     "output_type": "display_data"
    }
   ],
   "source": [
    "pfMean.plot(kind= 'line');"
   ]
  },
  {
   "cell_type": "markdown",
   "id": "30c2eef7",
   "metadata": {},
   "source": [
    "2. Draw the Area plot showing the average pollution Month wise"
   ]
  },
  {
   "cell_type": "code",
   "execution_count": 9,
   "id": "985bbc2a",
   "metadata": {},
   "outputs": [
    {
     "data": {
      "text/html": [
       "<div>\n",
       "<style scoped>\n",
       "    .dataframe tbody tr th:only-of-type {\n",
       "        vertical-align: middle;\n",
       "    }\n",
       "\n",
       "    .dataframe tbody tr th {\n",
       "        vertical-align: top;\n",
       "    }\n",
       "\n",
       "    .dataframe thead th {\n",
       "        text-align: right;\n",
       "    }\n",
       "</style>\n",
       "<table border=\"1\" class=\"dataframe\">\n",
       "  <thead>\n",
       "    <tr style=\"text-align: right;\">\n",
       "      <th></th>\n",
       "      <th>Timestamp</th>\n",
       "      <th>PM2.5</th>\n",
       "      <th>Year</th>\n",
       "      <th>Month</th>\n",
       "    </tr>\n",
       "  </thead>\n",
       "  <tbody>\n",
       "    <tr>\n",
       "      <th>0</th>\n",
       "      <td>2018-01-01 00:00:00</td>\n",
       "      <td>90.19</td>\n",
       "      <td>2018</td>\n",
       "      <td>1</td>\n",
       "    </tr>\n",
       "    <tr>\n",
       "      <th>1</th>\n",
       "      <td>2018-01-01 01:00:00</td>\n",
       "      <td>86.98</td>\n",
       "      <td>2018</td>\n",
       "      <td>1</td>\n",
       "    </tr>\n",
       "    <tr>\n",
       "      <th>2</th>\n",
       "      <td>2018-01-01 02:00:00</td>\n",
       "      <td>86.06</td>\n",
       "      <td>2018</td>\n",
       "      <td>1</td>\n",
       "    </tr>\n",
       "    <tr>\n",
       "      <th>3</th>\n",
       "      <td>2018-01-01 03:00:00</td>\n",
       "      <td>94.04</td>\n",
       "      <td>2018</td>\n",
       "      <td>1</td>\n",
       "    </tr>\n",
       "    <tr>\n",
       "      <th>4</th>\n",
       "      <td>2018-01-01 04:00:00</td>\n",
       "      <td>108.78</td>\n",
       "      <td>2018</td>\n",
       "      <td>1</td>\n",
       "    </tr>\n",
       "    <tr>\n",
       "      <th>...</th>\n",
       "      <td>...</td>\n",
       "      <td>...</td>\n",
       "      <td>...</td>\n",
       "      <td>...</td>\n",
       "    </tr>\n",
       "    <tr>\n",
       "      <th>31856</th>\n",
       "      <td>2021-12-31 19:00:00</td>\n",
       "      <td>72.25</td>\n",
       "      <td>2021</td>\n",
       "      <td>12</td>\n",
       "    </tr>\n",
       "    <tr>\n",
       "      <th>31857</th>\n",
       "      <td>2021-12-31 20:00:00</td>\n",
       "      <td>71.56</td>\n",
       "      <td>2021</td>\n",
       "      <td>12</td>\n",
       "    </tr>\n",
       "    <tr>\n",
       "      <th>31858</th>\n",
       "      <td>2021-12-31 21:00:00</td>\n",
       "      <td>70.27</td>\n",
       "      <td>2021</td>\n",
       "      <td>12</td>\n",
       "    </tr>\n",
       "    <tr>\n",
       "      <th>31859</th>\n",
       "      <td>2021-12-31 22:00:00</td>\n",
       "      <td>66.78</td>\n",
       "      <td>2021</td>\n",
       "      <td>12</td>\n",
       "    </tr>\n",
       "    <tr>\n",
       "      <th>31860</th>\n",
       "      <td>2021-12-31 23:00:00</td>\n",
       "      <td>61.29</td>\n",
       "      <td>2021</td>\n",
       "      <td>12</td>\n",
       "    </tr>\n",
       "  </tbody>\n",
       "</table>\n",
       "<p>31861 rows × 4 columns</p>\n",
       "</div>"
      ],
      "text/plain": [
       "                Timestamp   PM2.5  Year  Month\n",
       "0     2018-01-01 00:00:00   90.19  2018      1\n",
       "1     2018-01-01 01:00:00   86.98  2018      1\n",
       "2     2018-01-01 02:00:00   86.06  2018      1\n",
       "3     2018-01-01 03:00:00   94.04  2018      1\n",
       "4     2018-01-01 04:00:00  108.78  2018      1\n",
       "...                   ...     ...   ...    ...\n",
       "31856 2021-12-31 19:00:00   72.25  2021     12\n",
       "31857 2021-12-31 20:00:00   71.56  2021     12\n",
       "31858 2021-12-31 21:00:00   70.27  2021     12\n",
       "31859 2021-12-31 22:00:00   66.78  2021     12\n",
       "31860 2021-12-31 23:00:00   61.29  2021     12\n",
       "\n",
       "[31861 rows x 4 columns]"
      ]
     },
     "execution_count": 9,
     "metadata": {},
     "output_type": "execute_result"
    }
   ],
   "source": [
    "pf['Month']= pf['Timestamp'].dt.month\n",
    "pf"
   ]
  },
  {
   "cell_type": "code",
   "execution_count": 10,
   "id": "76112f35",
   "metadata": {},
   "outputs": [],
   "source": [
    "pfAvgMonth= pf.groupby('Month')['PM2.5'].mean()"
   ]
  },
  {
   "cell_type": "code",
   "execution_count": 11,
   "id": "d007db6f",
   "metadata": {},
   "outputs": [
    {
     "data": {
      "text/plain": [
       "<AxesSubplot:xlabel='Month'>"
      ]
     },
     "execution_count": 11,
     "metadata": {},
     "output_type": "execute_result"
    },
    {
     "data": {
      "image/png": "[encoded data removed]",
      "text/plain": [
       "<Figure size 432x288 with 1 Axes>"
      ]
     },
     "metadata": {
      "needs_background": "light"
     },
     "output_type": "display_data"
    }
   ],
   "source": [
    "pfAvgMonth.plot(kind ='area')"
   ]
  },
  {
   "cell_type": "markdown",
   "id": "9feb8466",
   "metadata": {},
   "source": [
    "3. Draw  a Bar Graph to show the Hours-wise average Pollution"
   ]
  },
  {
   "cell_type": "markdown",
   "id": "d545802f",
   "metadata": {},
   "source": [
    "* 0-12\t\t     : Good\n",
    "* 12.1 to 35.4 \t : Moderate\n",
    "* 35.5 to 55.4\t : Unhealthy for Sensitive Groups\n",
    "* 55.5 to150.4 \t : Unhealthy\n",
    "* 150.5 to 250.4 : Very Unhealthy\n",
    "* 250.5 to 500\t : Hazzardous"
   ]
  },
  {
   "cell_type": "code",
   "execution_count": 12,
   "id": "0154457e",
   "metadata": {},
   "outputs": [
    {
     "data": {
      "text/html": [
       "<div>\n",
       "<style scoped>\n",
       "    .dataframe tbody tr th:only-of-type {\n",
       "        vertical-align: middle;\n",
       "    }\n",
       "\n",
       "    .dataframe tbody tr th {\n",
       "        vertical-align: top;\n",
       "    }\n",
       "\n",
       "    .dataframe thead th {\n",
       "        text-align: right;\n",
       "    }\n",
       "</style>\n",
       "<table border=\"1\" class=\"dataframe\">\n",
       "  <thead>\n",
       "    <tr style=\"text-align: right;\">\n",
       "      <th></th>\n",
       "      <th>Timestamp</th>\n",
       "      <th>PM2.5</th>\n",
       "      <th>Year</th>\n",
       "      <th>Month</th>\n",
       "      <th>Hour</th>\n",
       "    </tr>\n",
       "  </thead>\n",
       "  <tbody>\n",
       "    <tr>\n",
       "      <th>0</th>\n",
       "      <td>2018-01-01 00:00:00</td>\n",
       "      <td>90.19</td>\n",
       "      <td>2018</td>\n",
       "      <td>1</td>\n",
       "      <td>0</td>\n",
       "    </tr>\n",
       "    <tr>\n",
       "      <th>1</th>\n",
       "      <td>2018-01-01 01:00:00</td>\n",
       "      <td>86.98</td>\n",
       "      <td>2018</td>\n",
       "      <td>1</td>\n",
       "      <td>1</td>\n",
       "    </tr>\n",
       "    <tr>\n",
       "      <th>2</th>\n",
       "      <td>2018-01-01 02:00:00</td>\n",
       "      <td>86.06</td>\n",
       "      <td>2018</td>\n",
       "      <td>1</td>\n",
       "      <td>2</td>\n",
       "    </tr>\n",
       "    <tr>\n",
       "      <th>3</th>\n",
       "      <td>2018-01-01 03:00:00</td>\n",
       "      <td>94.04</td>\n",
       "      <td>2018</td>\n",
       "      <td>1</td>\n",
       "      <td>3</td>\n",
       "    </tr>\n",
       "    <tr>\n",
       "      <th>4</th>\n",
       "      <td>2018-01-01 04:00:00</td>\n",
       "      <td>108.78</td>\n",
       "      <td>2018</td>\n",
       "      <td>1</td>\n",
       "      <td>4</td>\n",
       "    </tr>\n",
       "    <tr>\n",
       "      <th>...</th>\n",
       "      <td>...</td>\n",
       "      <td>...</td>\n",
       "      <td>...</td>\n",
       "      <td>...</td>\n",
       "      <td>...</td>\n",
       "    </tr>\n",
       "    <tr>\n",
       "      <th>31856</th>\n",
       "      <td>2021-12-31 19:00:00</td>\n",
       "      <td>72.25</td>\n",
       "      <td>2021</td>\n",
       "      <td>12</td>\n",
       "      <td>19</td>\n",
       "    </tr>\n",
       "    <tr>\n",
       "      <th>31857</th>\n",
       "      <td>2021-12-31 20:00:00</td>\n",
       "      <td>71.56</td>\n",
       "      <td>2021</td>\n",
       "      <td>12</td>\n",
       "      <td>20</td>\n",
       "    </tr>\n",
       "    <tr>\n",
       "      <th>31858</th>\n",
       "      <td>2021-12-31 21:00:00</td>\n",
       "      <td>70.27</td>\n",
       "      <td>2021</td>\n",
       "      <td>12</td>\n",
       "      <td>21</td>\n",
       "    </tr>\n",
       "    <tr>\n",
       "      <th>31859</th>\n",
       "      <td>2021-12-31 22:00:00</td>\n",
       "      <td>66.78</td>\n",
       "      <td>2021</td>\n",
       "      <td>12</td>\n",
       "      <td>22</td>\n",
       "    </tr>\n",
       "    <tr>\n",
       "      <th>31860</th>\n",
       "      <td>2021-12-31 23:00:00</td>\n",
       "      <td>61.29</td>\n",
       "      <td>2021</td>\n",
       "      <td>12</td>\n",
       "      <td>23</td>\n",
       "    </tr>\n",
       "  </tbody>\n",
       "</table>\n",
       "<p>31861 rows × 5 columns</p>\n",
       "</div>"
      ],
      "text/plain": [
       "                Timestamp   PM2.5  Year  Month  Hour\n",
       "0     2018-01-01 00:00:00   90.19  2018      1     0\n",
       "1     2018-01-01 01:00:00   86.98  2018      1     1\n",
       "2     2018-01-01 02:00:00   86.06  2018      1     2\n",
       "3     2018-01-01 03:00:00   94.04  2018      1     3\n",
       "4     2018-01-01 04:00:00  108.78  2018      1     4\n",
       "...                   ...     ...   ...    ...   ...\n",
       "31856 2021-12-31 19:00:00   72.25  2021     12    19\n",
       "31857 2021-12-31 20:00:00   71.56  2021     12    20\n",
       "31858 2021-12-31 21:00:00   70.27  2021     12    21\n",
       "31859 2021-12-31 22:00:00   66.78  2021     12    22\n",
       "31860 2021-12-31 23:00:00   61.29  2021     12    23\n",
       "\n",
       "[31861 rows x 5 columns]"
      ]
     },
     "execution_count": 12,
     "metadata": {},
     "output_type": "execute_result"
    }
   ],
   "source": [
    "pf['Hour']= pf['Timestamp'].dt.hour\n",
    "pf"
   ]
  },
  {
   "cell_type": "code",
   "execution_count": 13,
   "id": "cb953cbd",
   "metadata": {},
   "outputs": [],
   "source": [
    "pfAveHour= pf.groupby('Hour')['PM2.5'].mean()\n"
   ]
  },
  {
   "cell_type": "code",
   "execution_count": 14,
   "id": "dc609bc9",
   "metadata": {},
   "outputs": [
    {
     "data": {
      "text/plain": [
       "<AxesSubplot:xlabel='Hour'>"
      ]
     },
     "execution_count": 14,
     "metadata": {},
     "output_type": "execute_result"
    },
    {
     "data": {
      "image/png": "[encoded data removed]",
      "text/plain": [
       "<Figure size 432x288 with 1 Axes>"
      ]
     },
     "metadata": {
      "needs_background": "light"
     },
     "output_type": "display_data"
    }
   ],
   "source": [
    "pfAveHour.plot(kind ='bar')"
   ]
  },
  {
   "cell_type": "markdown",
   "id": "cb762e15",
   "metadata": {},
   "source": [
    "4. Usually in which month's , the air was recorded\" Verry Unhealthy\""
   ]
  },
  {
   "cell_type": "code",
   "execution_count": 15,
   "id": "5c6e21e9",
   "metadata": {},
   "outputs": [],
   "source": [
    "VeryUnhealthy=pf[(pf['PM2.5']>150.5) & (pf['PM2.5']<250.4)].groupby('Month')['PM2.5'].mean()"
   ]
  },
  {
   "cell_type": "code",
   "execution_count": 22,
   "id": "2e062590",
   "metadata": {},
   "outputs": [
    {
     "data": {
      "text/plain": [
       "<AxesSubplot:xlabel='Month'>"
      ]
     },
     "execution_count": 22,
     "metadata": {},
     "output_type": "execute_result"
    },
    {
     "data": {
      "image/png": "[encoded data removed]",
      "text/plain": [
       "<Figure size 432x288 with 1 Axes>"
      ]
     },
     "metadata": {
      "needs_background": "light"
     },
     "output_type": "display_data"
    }
   ],
   "source": [
    "VeryUnhealthy.plot(kind = 'bar', color = '#FF1800')"
   ]
  },
  {
   "cell_type": "markdown",
   "id": "ea1cd81e",
   "metadata": {},
   "source": [
    "5. Usually in which month's , the air was fresh (good)"
   ]
  },
  {
   "cell_type": "code",
   "execution_count": 20,
   "id": "a67bfb3e",
   "metadata": {},
   "outputs": [
    {
     "data": {
      "text/plain": [
       "Month\n",
       "1    11.106667\n",
       "4     8.636667\n",
       "5    11.675000\n",
       "6    11.246000\n",
       "7     9.193333\n",
       "8    11.057187\n",
       "Name: PM2.5, dtype: float64"
      ]
     },
     "execution_count": 20,
     "metadata": {},
     "output_type": "execute_result"
    }
   ],
   "source": [
    "Good=pf[pf['PM2.5']<12].groupby('Month')[\"PM2.5\"].mean()\n",
    "Good"
   ]
  },
  {
   "cell_type": "code",
   "execution_count": 21,
   "id": "694f0ae8",
   "metadata": {},
   "outputs": [
    {
     "data": {
      "text/plain": [
       "<AxesSubplot:xlabel='Month'>"
      ]
     },
     "execution_count": 21,
     "metadata": {},
     "output_type": "execute_result"
    },
    {
     "data": {
      "image/png": "[encoded data removed]",
      "text/plain": [
       "<Figure size 432x288 with 1 Axes>"
      ]
     },
     "metadata": {
      "needs_background": "light"
     },
     "output_type": "display_data"
    }
   ],
   "source": [
    "Good.plot(kind= 'bar', color = '#00C000')"
   ]
  },
  {
   "cell_type": "markdown",
   "id": "0185701f",
   "metadata": {},
   "source": [
    "6. In Year 2018 , how many times the AQI wsa recorded \" MOderate\"\n",
    "* `12.1 to 35.4` : Moderate"
   ]
  },
  {
   "cell_type": "code",
   "execution_count": 26,
   "id": "dbca661c",
   "metadata": {},
   "outputs": [],
   "source": [
    "moderate= (pf['PM2.5']>12.1) & (pf['PM2.5']<35.4)"
   ]
  },
  {
   "cell_type": "code",
   "execution_count": 29,
   "id": "d48ad88c",
   "metadata": {},
   "outputs": [
    {
     "data": {
      "text/plain": [
       "Timestamp    2238\n",
       "PM2.5        2238\n",
       "Year         2238\n",
       "Month        2238\n",
       "Hour         2238\n",
       "dtype: int64"
      ]
     },
     "execution_count": 29,
     "metadata": {},
     "output_type": "execute_result"
    }
   ],
   "source": [
    "pf[(pf['Year']==2018) & moderate].count()"
   ]
  },
  {
   "cell_type": "markdown",
   "id": "56fe4265",
   "metadata": {},
   "source": [
    "7. How was the weather in the month of January and July"
   ]
  },
  {
   "cell_type": "code",
   "execution_count": 30,
   "id": "223a7502",
   "metadata": {},
   "outputs": [
    {
     "data": {
      "text/plain": [
       "<AxesSubplot:xlabel='Month'>"
      ]
     },
     "execution_count": 30,
     "metadata": {},
     "output_type": "execute_result"
    },
    {
     "data": {
      "image/png": "[encoded data removed]",
      "text/plain": [
       "<Figure size 432x288 with 1 Axes>"
      ]
     },
     "metadata": {
      "needs_background": "light"
     },
     "output_type": "display_data"
    }
   ],
   "source": [
    "# In January, the weather very unhealthy\n",
    "VeryUnhealthy.plot(kind = 'bar', color = '#FF1800')"
   ]
  },
  {
   "cell_type": "code",
   "execution_count": 31,
   "id": "3e626d44",
   "metadata": {},
   "outputs": [
    {
     "data": {
      "text/plain": [
       "<AxesSubplot:xlabel='Month'>"
      ]
     },
     "execution_count": 31,
     "metadata": {},
     "output_type": "execute_result"
    },
    {
     "data": {
      "image/png": "[encoded data removed]",
      "text/plain": [
       "<Figure size 432x288 with 1 Axes>"
      ]
     },
     "metadata": {
      "needs_background": "light"
     },
     "output_type": "display_data"
    }
   ],
   "source": [
    "# In July, the weather very good\n",
    "Good.plot(kind= 'bar', color = '#00C000')"
   ]
  },
  {
   "cell_type": "code",
   "execution_count": null,
   "id": "6ea4e988",
   "metadata": {},
   "outputs": [],
   "source": []
  }
 ],
 "metadata": {
  "kernelspec": {
   "display_name": "Python 3 (ipykernel)",
   "language": "python",
   "name": "python3"
  },
  "language_info": {
   "codemirror_mode": {
    "name": "ipython",
    "version": 3
   },
   "file_extension": ".py",
   "mimetype": "text/x-python",
   "name": "python",
   "nbconvert_exporter": "python",
   "pygments_lexer": "ipython3",
   "version": "3.9.12"
  }
 },
 "nbformat": 4,
 "nbformat_minor": 5
}
